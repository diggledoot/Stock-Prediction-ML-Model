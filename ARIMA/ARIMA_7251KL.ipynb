{
 "cells": [
  {
   "cell_type": "markdown",
   "metadata": {},
   "source": [
    "# ARIMA for 7251.KL"
   ]
  },
  {
   "cell_type": "markdown",
   "metadata": {},
   "source": [
    "## Data Preparation"
   ]
  },
  {
   "cell_type": "code",
   "execution_count": 1,
   "metadata": {},
   "outputs": [],
   "source": [
    "#general\n",
    "import pandas as pd\n",
    "import numpy as np\n",
    "import matplotlib.pylab as plt\n",
    "%matplotlib inline\n",
    "import yfinance as yf\n",
    "from pmdarima.arima import ADFTest\n",
    "from pandas_datareader import data as pdr"
   ]
  },
  {
   "cell_type": "code",
   "execution_count": 2,
   "metadata": {},
   "outputs": [],
   "source": [
    "def check(x):\n",
    "    adf = ADFTest()\n",
    "    print(\"ADF:\",adf.is_stationary(x)[1])"
   ]
  },
  {
   "cell_type": "code",
   "execution_count": 3,
   "metadata": {},
   "outputs": [
    {
     "name": "stdout",
     "output_type": "stream",
     "text": [
      "[*********************100%***********************]  1 of 1 completed\n"
     ]
    },
    {
     "data": {
      "text/html": [
       "<div>\n",
       "<style scoped>\n",
       "    .dataframe tbody tr th:only-of-type {\n",
       "        vertical-align: middle;\n",
       "    }\n",
       "\n",
       "    .dataframe tbody tr th {\n",
       "        vertical-align: top;\n",
       "    }\n",
       "\n",
       "    .dataframe thead th {\n",
       "        text-align: right;\n",
       "    }\n",
       "</style>\n",
       "<table border=\"1\" class=\"dataframe\">\n",
       "  <thead>\n",
       "    <tr style=\"text-align: right;\">\n",
       "      <th></th>\n",
       "      <th>open</th>\n",
       "      <th>high</th>\n",
       "      <th>low</th>\n",
       "      <th>close</th>\n",
       "      <th>adj_close</th>\n",
       "      <th>volume</th>\n",
       "    </tr>\n",
       "    <tr>\n",
       "      <th>Date</th>\n",
       "      <th></th>\n",
       "      <th></th>\n",
       "      <th></th>\n",
       "      <th></th>\n",
       "      <th></th>\n",
       "      <th></th>\n",
       "    </tr>\n",
       "  </thead>\n",
       "  <tbody>\n",
       "    <tr>\n",
       "      <td>2020-03-06</td>\n",
       "      <td>0.025</td>\n",
       "      <td>0.025</td>\n",
       "      <td>0.025</td>\n",
       "      <td>0.025</td>\n",
       "      <td>0.025</td>\n",
       "      <td>1232500</td>\n",
       "    </tr>\n",
       "    <tr>\n",
       "      <td>2020-03-09</td>\n",
       "      <td>0.020</td>\n",
       "      <td>0.025</td>\n",
       "      <td>0.020</td>\n",
       "      <td>0.020</td>\n",
       "      <td>0.020</td>\n",
       "      <td>9683100</td>\n",
       "    </tr>\n",
       "    <tr>\n",
       "      <td>2020-03-10</td>\n",
       "      <td>0.020</td>\n",
       "      <td>0.020</td>\n",
       "      <td>0.015</td>\n",
       "      <td>0.015</td>\n",
       "      <td>0.015</td>\n",
       "      <td>2291100</td>\n",
       "    </tr>\n",
       "    <tr>\n",
       "      <td>2020-03-11</td>\n",
       "      <td>0.020</td>\n",
       "      <td>0.020</td>\n",
       "      <td>0.015</td>\n",
       "      <td>0.015</td>\n",
       "      <td>0.015</td>\n",
       "      <td>717500</td>\n",
       "    </tr>\n",
       "    <tr>\n",
       "      <td>2020-03-12</td>\n",
       "      <td>0.015</td>\n",
       "      <td>0.020</td>\n",
       "      <td>0.015</td>\n",
       "      <td>0.015</td>\n",
       "      <td>0.015</td>\n",
       "      <td>1468900</td>\n",
       "    </tr>\n",
       "  </tbody>\n",
       "</table>\n",
       "</div>"
      ],
      "text/plain": [
       "             open   high    low  close  adj_close   volume\n",
       "Date                                                      \n",
       "2020-03-06  0.025  0.025  0.025  0.025      0.025  1232500\n",
       "2020-03-09  0.020  0.025  0.020  0.020      0.020  9683100\n",
       "2020-03-10  0.020  0.020  0.015  0.015      0.015  2291100\n",
       "2020-03-11  0.020  0.020  0.015  0.015      0.015   717500\n",
       "2020-03-12  0.015  0.020  0.015  0.015      0.015  1468900"
      ]
     },
     "execution_count": 3,
     "metadata": {},
     "output_type": "execute_result"
    }
   ],
   "source": [
    "yf.pdr_override()\n",
    "#load ticker for stock\n",
    "df = pdr.get_data_yahoo(\"7251.KL\", period=\"max\", end=\"2020-04-30\")\n",
    "df.columns = [str(x).lower().replace(' ', '_') for x in df.columns]\n",
    "# Change all column headings to be lower case, and remove spacing\n",
    "df.tail()"
   ]
  },
  {
   "cell_type": "code",
   "execution_count": 4,
   "metadata": {},
   "outputs": [
    {
     "name": "stdout",
     "output_type": "stream",
     "text": [
      "ADF: True\n"
     ]
    },
    {
     "name": "stderr",
     "output_type": "stream",
     "text": [
      "C:\\Users\\Teradon\\Anaconda3\\lib\\site-packages\\ipykernel_launcher.py:3: DeprecationWarning: is_stationary is deprecated and will be removed in a future release of pmdarima. Use should_diff instead.\n",
      "  This is separate from the ipykernel package so we can avoid doing imports until\n"
     ]
    }
   ],
   "source": [
    "df = df.filter(items=['adj_close'])\n",
    "check(df)"
   ]
  },
  {
   "cell_type": "code",
   "execution_count": 6,
   "metadata": {},
   "outputs": [
    {
     "name": "stderr",
     "output_type": "stream",
     "text": [
      "C:\\Users\\Teradon\\Anaconda3\\lib\\site-packages\\pandas\\plotting\\_matplotlib\\converter.py:103: FutureWarning: Using an implicitly registered datetime converter for a matplotlib plotting method. The converter was registered by pandas on import. Future versions of pandas will require you to explicitly register matplotlib converters.\n",
      "\n",
      "To register the converters:\n",
      "\t>>> from pandas.plotting import register_matplotlib_converters\n",
      "\t>>> register_matplotlib_converters()\n",
      "  warnings.warn(msg, FutureWarning)\n"
     ]
    },
    {
     "data": {
      "image/png": "[encoded data removed]",
      "text/plain": [
       "<Figure size 864x576 with 1 Axes>"
      ]
     },
     "metadata": {
      "needs_background": "light"
     },
     "output_type": "display_data"
    }
   ],
   "source": [
    "n=366\n",
    "train = df[:-n]\n",
    "test = df[-n:]\n",
    "plt.figure(figsize=(12,8))\n",
    "plt.plot(train)\n",
    "plt.plot(test)\n",
    "plt.show()"
   ]
  },
  {
   "cell_type": "markdown",
   "metadata": {},
   "source": [
    "## Training the model"
   ]
  },
  {
   "cell_type": "code",
   "execution_count": 7,
   "metadata": {},
   "outputs": [
    {
     "name": "stdout",
     "output_type": "stream",
     "text": [
      "Performing stepwise search to minimize aic\n",
      "Fit ARIMA(2,1,2)x(1,0,1,7) [intercept=True]; AIC=-10048.811, BIC=-10002.820, Time=1.815 seconds\n",
      "Fit ARIMA(0,1,0)x(0,0,0,7) [intercept=True]; AIC=-10040.886, BIC=-10029.388, Time=0.215 seconds\n",
      "Fit ARIMA(1,1,0)x(1,0,0,7) [intercept=True]; AIC=-10045.310, BIC=-10022.315, Time=0.285 seconds\n",
      "Fit ARIMA(0,1,1)x(0,0,1,7) [intercept=True]; AIC=-10044.538, BIC=-10021.543, Time=1.783 seconds\n",
      "Fit ARIMA(0,1,0)x(0,0,0,7) [intercept=False]; AIC=-10042.811, BIC=-10037.062, Time=0.071 seconds\n",
      "Fit ARIMA(2,1,2)x(0,0,1,7) [intercept=True]; AIC=-10057.981, BIC=-10017.739, Time=5.932 seconds\n",
      "Fit ARIMA(2,1,2)x(0,0,0,7) [intercept=True]; AIC=-10059.864, BIC=-10025.370, Time=2.034 seconds\n",
      "Fit ARIMA(2,1,2)x(1,0,0,7) [intercept=True]; AIC=-10057.988, BIC=-10017.746, Time=5.800 seconds\n",
      "Fit ARIMA(1,1,2)x(0,0,0,7) [intercept=True]; AIC=-10054.698, BIC=-10025.953, Time=0.630 seconds\n",
      "Fit ARIMA(2,1,1)x(0,0,0,7) [intercept=True]; AIC=-10059.086, BIC=-10030.341, Time=1.965 seconds\n",
      "Fit ARIMA(3,1,2)x(0,0,0,7) [intercept=True]; AIC=-10054.440, BIC=-10014.198, Time=2.274 seconds\n",
      "Fit ARIMA(2,1,3)x(0,0,0,7) [intercept=True]; AIC=-10057.696, BIC=-10017.454, Time=3.248 seconds\n",
      "Fit ARIMA(1,1,1)x(0,0,0,7) [intercept=True]; AIC=-10046.115, BIC=-10023.120, Time=0.611 seconds\n",
      "Fit ARIMA(1,1,3)x(0,0,0,7) [intercept=True]; AIC=-10060.056, BIC=-10025.562, Time=2.570 seconds\n",
      "Fit ARIMA(1,1,3)x(1,0,0,7) [intercept=True]; AIC=-10058.009, BIC=-10017.766, Time=4.648 seconds\n",
      "Fit ARIMA(1,1,3)x(0,0,1,7) [intercept=True]; AIC=-10056.345, BIC=-10016.103, Time=5.505 seconds\n",
      "Fit ARIMA(1,1,3)x(1,0,1,7) [intercept=True]; AIC=-10055.641, BIC=-10009.650, Time=6.632 seconds\n",
      "Fit ARIMA(0,1,3)x(0,0,0,7) [intercept=True]; AIC=-10055.783, BIC=-10027.039, Time=1.281 seconds\n",
      "Fit ARIMA(1,1,4)x(0,0,0,7) [intercept=True]; AIC=-10066.085, BIC=-10025.843, Time=0.940 seconds\n",
      "Fit ARIMA(1,1,4)x(1,0,0,7) [intercept=True]; AIC=-10064.453, BIC=-10018.462, Time=3.205 seconds\n",
      "Fit ARIMA(1,1,4)x(0,0,1,7) [intercept=True]; AIC=-10065.367, BIC=-10019.376, Time=8.188 seconds\n",
      "Fit ARIMA(1,1,4)x(1,0,1,7) [intercept=True]; AIC=-10062.468, BIC=-10010.727, Time=3.249 seconds\n",
      "Fit ARIMA(0,1,4)x(0,0,0,7) [intercept=True]; AIC=-10065.438, BIC=-10030.945, Time=0.899 seconds\n",
      "Fit ARIMA(2,1,4)x(0,0,0,7) [intercept=True]; AIC=-10064.673, BIC=-10018.682, Time=2.425 seconds\n",
      "Fit ARIMA(1,1,5)x(0,0,0,7) [intercept=True]; AIC=-10063.695, BIC=-10017.704, Time=1.976 seconds\n",
      "Fit ARIMA(0,1,5)x(0,0,0,7) [intercept=True]; AIC=-10064.695, BIC=-10024.453, Time=1.256 seconds\n",
      "Fit ARIMA(2,1,5)x(0,0,0,7) [intercept=True]; AIC=-10061.286, BIC=-10009.546, Time=1.681 seconds\n",
      "Total fit time: 71.177 seconds\n"
     ]
    },
    {
     "data": {
      "text/plain": [
       "ARIMA(order=(1, 1, 4), seasonal_order=(0, 0, 0, 7), suppress_warnings=True)"
      ]
     },
     "execution_count": 7,
     "metadata": {},
     "output_type": "execute_result"
    }
   ],
   "source": [
    "from pmdarima import auto_arima\n",
    "\n",
    "model = auto_arima(train,trace=True,m=7,error_action='ignore', suppress_warnings=True)\n",
    "model.fit(train)"
   ]
  },
  {
   "cell_type": "markdown",
   "metadata": {},
   "source": [
    "## Forecasting on the dataset"
   ]
  },
  {
   "cell_type": "code",
   "execution_count": 8,
   "metadata": {},
   "outputs": [],
   "source": [
    "forecast = model.predict(n_periods=n)\n",
    "forecast = pd.DataFrame(forecast,index = test.index,columns=['Prediction'])"
   ]
  },
  {
   "cell_type": "code",
   "execution_count": 9,
   "metadata": {},
   "outputs": [
    {
     "data": {
      "image/png": "[encoded data removed]",
      "text/plain": [
       "<Figure size 432x288 with 1 Axes>"
      ]
     },
     "metadata": {
      "needs_background": "light"
     },
     "output_type": "display_data"
    }
   ],
   "source": [
    "plt.plot(train, label='Train')\n",
    "plt.plot(test, label='Valid')\n",
    "plt.plot(forecast, label='Prediction')\n",
    "plt.show()"
   ]
  },
  {
   "cell_type": "markdown",
   "metadata": {},
   "source": [
    "## Evaluating the trained model"
   ]
  },
  {
   "cell_type": "code",
   "execution_count": 10,
   "metadata": {
    "scrolled": true
   },
   "outputs": [
    {
     "name": "stdout",
     "output_type": "stream",
     "text": [
      "0.0032625956321725275\n"
     ]
    }
   ],
   "source": [
    "from sklearn.metrics import mean_squared_error\n",
    "print(mean_squared_error(test,forecast['Prediction']))"
   ]
  },
  {
   "cell_type": "markdown",
   "metadata": {},
   "source": [
    "## Forecasting beyond the dataset"
   ]
  },
  {
   "cell_type": "code",
   "execution_count": 11,
   "metadata": {},
   "outputs": [
    {
     "data": {
      "text/plain": [
       "ARIMA(order=(1, 1, 4), seasonal_order=(0, 0, 0, 7), suppress_warnings=True)"
      ]
     },
     "execution_count": 11,
     "metadata": {},
     "output_type": "execute_result"
    }
   ],
   "source": [
    "model.update(test)"
   ]
  },
  {
   "cell_type": "code",
   "execution_count": 12,
   "metadata": {},
   "outputs": [],
   "source": [
    "dates = pd.date_range(start='2020-05-01', periods=n)"
   ]
  },
  {
   "cell_type": "code",
   "execution_count": 13,
   "metadata": {},
   "outputs": [],
   "source": [
    "forecast = model.predict(n_periods=n)\n",
    "forecast = pd.DataFrame(forecast,index = dates,columns=['Prediction'])"
   ]
  },
  {
   "cell_type": "code",
   "execution_count": 15,
   "metadata": {},
   "outputs": [
    {
     "data": {
      "text/html": [
       "<div>\n",
       "<style scoped>\n",
       "    .dataframe tbody tr th:only-of-type {\n",
       "        vertical-align: middle;\n",
       "    }\n",
       "\n",
       "    .dataframe tbody tr th {\n",
       "        vertical-align: top;\n",
       "    }\n",
       "\n",
       "    .dataframe thead th {\n",
       "        text-align: right;\n",
       "    }\n",
       "</style>\n",
       "<table border=\"1\" class=\"dataframe\">\n",
       "  <thead>\n",
       "    <tr style=\"text-align: right;\">\n",
       "      <th></th>\n",
       "      <th>Prediction</th>\n",
       "    </tr>\n",
       "  </thead>\n",
       "  <tbody>\n",
       "    <tr>\n",
       "      <td>2021-04-27</td>\n",
       "      <td>-0.052892</td>\n",
       "    </tr>\n",
       "    <tr>\n",
       "      <td>2021-04-28</td>\n",
       "      <td>-0.053078</td>\n",
       "    </tr>\n",
       "    <tr>\n",
       "      <td>2021-04-29</td>\n",
       "      <td>-0.053264</td>\n",
       "    </tr>\n",
       "    <tr>\n",
       "      <td>2021-04-30</td>\n",
       "      <td>-0.053450</td>\n",
       "    </tr>\n",
       "    <tr>\n",
       "      <td>2021-05-01</td>\n",
       "      <td>-0.053636</td>\n",
       "    </tr>\n",
       "  </tbody>\n",
       "</table>\n",
       "</div>"
      ],
      "text/plain": [
       "            Prediction\n",
       "2021-04-27   -0.052892\n",
       "2021-04-28   -0.053078\n",
       "2021-04-29   -0.053264\n",
       "2021-04-30   -0.053450\n",
       "2021-05-01   -0.053636"
      ]
     },
     "execution_count": 15,
     "metadata": {},
     "output_type": "execute_result"
    }
   ],
   "source": [
    "forecast.tail()"
   ]
  },
  {
   "cell_type": "code",
   "execution_count": 14,
   "metadata": {
    "scrolled": false
   },
   "outputs": [
    {
     "data": {
      "image/png": "[encoded data removed]",
      "text/plain": [
       "<Figure size 864x576 with 1 Axes>"
      ]
     },
     "metadata": {
      "needs_background": "light"
     },
     "output_type": "display_data"
    }
   ],
   "source": [
    "plt.figure(figsize=(12,8))\n",
    "plt.plot(train,label=\"Train\")\n",
    "plt.plot(test,label='Test')\n",
    "plt.plot(forecast,label='Forecast')\n",
    "plt.show()"
   ]
  }
 ],
 "metadata": {
  "kernelspec": {
   "display_name": "Python 3",
   "language": "python",
   "name": "python3"
  },
  "language_info": {
   "codemirror_mode": {
    "name": "ipython",
    "version": 3
   },
   "file_extension": ".py",
   "mimetype": "text/x-python",
   "name": "python",
   "nbconvert_exporter": "python",
   "pygments_lexer": "ipython3",
   "version": "3.7.4"
  }
 },
 "nbformat": 4,
 "nbformat_minor": 2
}
