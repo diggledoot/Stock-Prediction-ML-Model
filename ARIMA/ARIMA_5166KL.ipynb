{
 "cells": [
  {
   "cell_type": "markdown",
   "metadata": {},
   "source": [
    "# ARIMA for 5166.KL"
   ]
  },
  {
   "cell_type": "markdown",
   "metadata": {},
   "source": [
    "## Data Preparation"
   ]
  },
  {
   "cell_type": "code",
   "execution_count": 1,
   "metadata": {},
   "outputs": [],
   "source": [
    "#general\n",
    "import pandas as pd\n",
    "import numpy as np\n",
    "import matplotlib.pylab as plt\n",
    "%matplotlib inline\n",
    "import yfinance as yf\n",
    "from pmdarima.arima import ADFTest\n",
    "from pandas_datareader import data as pdr"
   ]
  },
  {
   "cell_type": "code",
   "execution_count": 2,
   "metadata": {},
   "outputs": [],
   "source": [
    "def check(x):\n",
    "    adf = ADFTest()\n",
    "    print(\"ADF:\",adf.is_stationary(x)[1])"
   ]
  },
  {
   "cell_type": "code",
   "execution_count": 6,
   "metadata": {},
   "outputs": [
    {
     "name": "stdout",
     "output_type": "stream",
     "text": [
      "[*********************100%***********************]  1 of 1 completed\n"
     ]
    },
    {
     "data": {
      "text/html": [
       "<div>\n",
       "<style scoped>\n",
       "    .dataframe tbody tr th:only-of-type {\n",
       "        vertical-align: middle;\n",
       "    }\n",
       "\n",
       "    .dataframe tbody tr th {\n",
       "        vertical-align: top;\n",
       "    }\n",
       "\n",
       "    .dataframe thead th {\n",
       "        text-align: right;\n",
       "    }\n",
       "</style>\n",
       "<table border=\"1\" class=\"dataframe\">\n",
       "  <thead>\n",
       "    <tr style=\"text-align: right;\">\n",
       "      <th></th>\n",
       "      <th>open</th>\n",
       "      <th>high</th>\n",
       "      <th>low</th>\n",
       "      <th>close</th>\n",
       "      <th>adj_close</th>\n",
       "      <th>volume</th>\n",
       "    </tr>\n",
       "    <tr>\n",
       "      <th>Date</th>\n",
       "      <th></th>\n",
       "      <th></th>\n",
       "      <th></th>\n",
       "      <th></th>\n",
       "      <th></th>\n",
       "      <th></th>\n",
       "    </tr>\n",
       "  </thead>\n",
       "  <tbody>\n",
       "    <tr>\n",
       "      <td>2010-05-18</td>\n",
       "      <td>3.600</td>\n",
       "      <td>4.01</td>\n",
       "      <td>3.600</td>\n",
       "      <td>3.96</td>\n",
       "      <td>2.542616</td>\n",
       "      <td>77518800</td>\n",
       "    </tr>\n",
       "    <tr>\n",
       "      <td>2010-05-19</td>\n",
       "      <td>3.930</td>\n",
       "      <td>3.97</td>\n",
       "      <td>3.800</td>\n",
       "      <td>3.83</td>\n",
       "      <td>2.459146</td>\n",
       "      <td>8407700</td>\n",
       "    </tr>\n",
       "    <tr>\n",
       "      <td>2010-05-20</td>\n",
       "      <td>3.810</td>\n",
       "      <td>3.86</td>\n",
       "      <td>3.760</td>\n",
       "      <td>3.83</td>\n",
       "      <td>2.459146</td>\n",
       "      <td>8376100</td>\n",
       "    </tr>\n",
       "    <tr>\n",
       "      <td>2010-05-21</td>\n",
       "      <td>3.760</td>\n",
       "      <td>3.89</td>\n",
       "      <td>3.750</td>\n",
       "      <td>3.82</td>\n",
       "      <td>2.452725</td>\n",
       "      <td>3677300</td>\n",
       "    </tr>\n",
       "    <tr>\n",
       "      <td>2010-05-24</td>\n",
       "      <td>3.850</td>\n",
       "      <td>3.85</td>\n",
       "      <td>3.750</td>\n",
       "      <td>3.79</td>\n",
       "      <td>2.433463</td>\n",
       "      <td>2240000</td>\n",
       "    </tr>\n",
       "    <tr>\n",
       "      <td>...</td>\n",
       "      <td>...</td>\n",
       "      <td>...</td>\n",
       "      <td>...</td>\n",
       "      <td>...</td>\n",
       "      <td>...</td>\n",
       "      <td>...</td>\n",
       "    </tr>\n",
       "    <tr>\n",
       "      <td>2020-03-06</td>\n",
       "      <td>0.040</td>\n",
       "      <td>0.04</td>\n",
       "      <td>0.040</td>\n",
       "      <td>0.04</td>\n",
       "      <td>0.040000</td>\n",
       "      <td>404000</td>\n",
       "    </tr>\n",
       "    <tr>\n",
       "      <td>2020-03-09</td>\n",
       "      <td>0.035</td>\n",
       "      <td>0.04</td>\n",
       "      <td>0.035</td>\n",
       "      <td>0.04</td>\n",
       "      <td>0.040000</td>\n",
       "      <td>914200</td>\n",
       "    </tr>\n",
       "    <tr>\n",
       "      <td>2020-03-10</td>\n",
       "      <td>0.040</td>\n",
       "      <td>0.04</td>\n",
       "      <td>0.040</td>\n",
       "      <td>0.04</td>\n",
       "      <td>0.040000</td>\n",
       "      <td>2800</td>\n",
       "    </tr>\n",
       "    <tr>\n",
       "      <td>2020-03-11</td>\n",
       "      <td>0.035</td>\n",
       "      <td>0.04</td>\n",
       "      <td>0.035</td>\n",
       "      <td>0.04</td>\n",
       "      <td>0.040000</td>\n",
       "      <td>80000</td>\n",
       "    </tr>\n",
       "    <tr>\n",
       "      <td>2020-03-12</td>\n",
       "      <td>0.040</td>\n",
       "      <td>0.04</td>\n",
       "      <td>0.040</td>\n",
       "      <td>0.04</td>\n",
       "      <td>0.040000</td>\n",
       "      <td>0</td>\n",
       "    </tr>\n",
       "  </tbody>\n",
       "</table>\n",
       "<p>2426 rows × 6 columns</p>\n",
       "</div>"
      ],
      "text/plain": [
       "             open  high    low  close  adj_close    volume\n",
       "Date                                                      \n",
       "2010-05-18  3.600  4.01  3.600   3.96   2.542616  77518800\n",
       "2010-05-19  3.930  3.97  3.800   3.83   2.459146   8407700\n",
       "2010-05-20  3.810  3.86  3.760   3.83   2.459146   8376100\n",
       "2010-05-21  3.760  3.89  3.750   3.82   2.452725   3677300\n",
       "2010-05-24  3.850  3.85  3.750   3.79   2.433463   2240000\n",
       "...           ...   ...    ...    ...        ...       ...\n",
       "2020-03-06  0.040  0.04  0.040   0.04   0.040000    404000\n",
       "2020-03-09  0.035  0.04  0.035   0.04   0.040000    914200\n",
       "2020-03-10  0.040  0.04  0.040   0.04   0.040000      2800\n",
       "2020-03-11  0.035  0.04  0.035   0.04   0.040000     80000\n",
       "2020-03-12  0.040  0.04  0.040   0.04   0.040000         0\n",
       "\n",
       "[2426 rows x 6 columns]"
      ]
     },
     "execution_count": 6,
     "metadata": {},
     "output_type": "execute_result"
    }
   ],
   "source": [
    "yf.pdr_override()\n",
    "#load ticker for stock\n",
    "df = pdr.get_data_yahoo(\"5166.KL\", period=\"max\", end=\"2020-04-30\")\n",
    "df.columns = [str(x).lower().replace(' ', '_') for x in df.columns]\n",
    "# Change all column headings to be lower case, and remove spacing\n",
    "df.tail()\n",
    "df.dropna()"
   ]
  },
  {
   "cell_type": "code",
   "execution_count": 7,
   "metadata": {},
   "outputs": [
    {
     "name": "stdout",
     "output_type": "stream",
     "text": [
      "ADF: True\n"
     ]
    },
    {
     "name": "stderr",
     "output_type": "stream",
     "text": [
      "C:\\Users\\Teradon\\Anaconda3\\lib\\site-packages\\ipykernel_launcher.py:3: DeprecationWarning: is_stationary is deprecated and will be removed in a future release of pmdarima. Use should_diff instead.\n",
      "  This is separate from the ipykernel package so we can avoid doing imports until\n"
     ]
    }
   ],
   "source": [
    "df = df.filter(items=['adj_close'])\n",
    "check(df)"
   ]
  },
  {
   "cell_type": "code",
   "execution_count": 8,
   "metadata": {
    "scrolled": false
   },
   "outputs": [
    {
     "name": "stderr",
     "output_type": "stream",
     "text": [
      "C:\\Users\\Teradon\\Anaconda3\\lib\\site-packages\\pandas\\plotting\\_matplotlib\\converter.py:103: FutureWarning: Using an implicitly registered datetime converter for a matplotlib plotting method. The converter was registered by pandas on import. Future versions of pandas will require you to explicitly register matplotlib converters.\n",
      "\n",
      "To register the converters:\n",
      "\t>>> from pandas.plotting import register_matplotlib_converters\n",
      "\t>>> register_matplotlib_converters()\n",
      "  warnings.warn(msg, FutureWarning)\n"
     ]
    },
    {
     "data": {
      "image/png": "[encoded data removed]",
      "text/plain": [
       "<Figure size 864x576 with 1 Axes>"
      ]
     },
     "metadata": {
      "needs_background": "light"
     },
     "output_type": "display_data"
    }
   ],
   "source": [
    "n=366\n",
    "train = df[:-n]\n",
    "test = df[-n:]\n",
    "plt.figure(figsize=(12,8))\n",
    "plt.plot(train)\n",
    "plt.plot(test)\n",
    "plt.show()"
   ]
  },
  {
   "cell_type": "markdown",
   "metadata": {},
   "source": [
    "## Training the model"
   ]
  },
  {
   "cell_type": "code",
   "execution_count": 9,
   "metadata": {},
   "outputs": [
    {
     "name": "stdout",
     "output_type": "stream",
     "text": [
      "Performing stepwise search to minimize aic\n",
      "Fit ARIMA(2,2,2)x(1,0,1,7) [intercept=True]; AIC=-10128.226, BIC=-10083.190, Time=6.095 seconds\n",
      "Fit ARIMA(0,2,0)x(0,0,0,7) [intercept=True]; AIC=-9013.118, BIC=-9001.859, Time=0.317 seconds\n",
      "Fit ARIMA(1,2,0)x(1,0,0,7) [intercept=True]; AIC=-9517.377, BIC=-9494.859, Time=1.864 seconds\n",
      "Fit ARIMA(0,2,1)x(0,0,1,7) [intercept=True]; AIC=-10137.764, BIC=-10115.246, Time=2.756 seconds\n",
      "Fit ARIMA(0,2,0)x(0,0,0,7) [intercept=False]; AIC=-9015.113, BIC=-9009.484, Time=0.146 seconds\n",
      "Fit ARIMA(0,2,1)x(0,0,0,7) [intercept=True]; AIC=-10168.200, BIC=-10151.312, Time=1.233 seconds\n",
      "Near non-invertible roots for order (0, 2, 1)(0, 0, 0, 7); setting score to inf (at least one inverse root too close to the border of the unit circle: 0.993)\n",
      "Fit ARIMA(0,2,1)x(1,0,1,7) [intercept=True]; AIC=-10163.799, BIC=-10135.652, Time=5.547 seconds\n",
      "Near non-invertible roots for order (0, 2, 1)(1, 0, 1, 7); setting score to inf (at least one inverse root too close to the border of the unit circle: 0.993)\n",
      "Fit ARIMA(0,2,1)x(0,0,2,7) [intercept=True]; AIC=-10120.815, BIC=-10092.668, Time=7.063 seconds\n",
      "Fit ARIMA(0,2,1)x(1,0,0,7) [intercept=True]; AIC=-10083.004, BIC=-10060.486, Time=1.916 seconds\n",
      "Fit ARIMA(0,2,1)x(1,0,2,7) [intercept=True]; AIC=-10135.232, BIC=-10101.455, Time=9.435 seconds\n",
      "Fit ARIMA(0,2,0)x(0,0,1,7) [intercept=True]; AIC=-9011.126, BIC=-8994.238, Time=0.735 seconds\n",
      "Fit ARIMA(1,2,1)x(0,0,1,7) [intercept=True]; AIC=-10188.168, BIC=-10160.020, Time=6.376 seconds\n",
      "Near non-invertible roots for order (1, 2, 1)(0, 0, 1, 7); setting score to inf (at least one inverse root too close to the border of the unit circle: 0.993)\n",
      "Fit ARIMA(0,2,2)x(0,0,1,7) [intercept=True]; AIC=-10082.934, BIC=-10054.787, Time=2.060 seconds\n",
      "Fit ARIMA(1,2,0)x(0,0,1,7) [intercept=True]; AIC=-9517.349, BIC=-9494.831, Time=1.850 seconds\n",
      "Fit ARIMA(1,2,2)x(0,0,1,7) [intercept=True]; AIC=-10157.831, BIC=-10124.054, Time=5.300 seconds\n",
      "Near non-invertible roots for order (1, 2, 2)(0, 0, 1, 7); setting score to inf (at least one inverse root too close to the border of the unit circle: 0.992)\n",
      "Total fit time: 52.746 seconds\n"
     ]
    },
    {
     "data": {
      "text/plain": [
       "ARIMA(order=(1, 2, 1), seasonal_order=(0, 0, 1, 7), suppress_warnings=True)"
      ]
     },
     "execution_count": 9,
     "metadata": {},
     "output_type": "execute_result"
    }
   ],
   "source": [
    "from pmdarima import auto_arima\n",
    "\n",
    "model = auto_arima(train,trace=True,m=7,error_action='ignore', suppress_warnings=True)\n",
    "model.fit(train)"
   ]
  },
  {
   "cell_type": "markdown",
   "metadata": {},
   "source": [
    "## Forecasting on the dataset"
   ]
  },
  {
   "cell_type": "code",
   "execution_count": 10,
   "metadata": {},
   "outputs": [],
   "source": [
    "forecast = model.predict(n_periods=n)\n",
    "forecast = pd.DataFrame(forecast,index = test.index,columns=['Prediction'])"
   ]
  },
  {
   "cell_type": "code",
   "execution_count": 11,
   "metadata": {},
   "outputs": [
    {
     "data": {
      "image/png": "[encoded data removed]",
      "text/plain": [
       "<Figure size 432x288 with 1 Axes>"
      ]
     },
     "metadata": {
      "needs_background": "light"
     },
     "output_type": "display_data"
    }
   ],
   "source": [
    "plt.plot(train, label='Train')\n",
    "plt.plot(test, label='Valid')\n",
    "plt.plot(forecast, label='Prediction')\n",
    "plt.show()"
   ]
  },
  {
   "cell_type": "markdown",
   "metadata": {},
   "source": [
    "## Evaluating the trained model"
   ]
  },
  {
   "cell_type": "code",
   "execution_count": 12,
   "metadata": {
    "scrolled": true
   },
   "outputs": [
    {
     "name": "stdout",
     "output_type": "stream",
     "text": [
      "0.0025258323757062374\n"
     ]
    }
   ],
   "source": [
    "from sklearn.metrics import mean_squared_error\n",
    "print(mean_squared_error(test,forecast['Prediction']))"
   ]
  },
  {
   "cell_type": "markdown",
   "metadata": {},
   "source": [
    "## Forecasting beyond the dataset"
   ]
  },
  {
   "cell_type": "code",
   "execution_count": 13,
   "metadata": {},
   "outputs": [
    {
     "data": {
      "text/plain": [
       "ARIMA(order=(1, 2, 1), seasonal_order=(0, 0, 1, 7), suppress_warnings=True)"
      ]
     },
     "execution_count": 13,
     "metadata": {},
     "output_type": "execute_result"
    }
   ],
   "source": [
    "model.update(test)"
   ]
  },
  {
   "cell_type": "code",
   "execution_count": 14,
   "metadata": {},
   "outputs": [],
   "source": [
    "dates = pd.date_range(start='2020-05-01', periods=n)"
   ]
  },
  {
   "cell_type": "code",
   "execution_count": 15,
   "metadata": {},
   "outputs": [],
   "source": [
    "forecast = model.predict(n_periods=n)\n",
    "forecast = pd.DataFrame(forecast,index = dates,columns=['Prediction'])"
   ]
  },
  {
   "cell_type": "code",
   "execution_count": 18,
   "metadata": {},
   "outputs": [
    {
     "data": {
      "text/html": [
       "<div>\n",
       "<style scoped>\n",
       "    .dataframe tbody tr th:only-of-type {\n",
       "        vertical-align: middle;\n",
       "    }\n",
       "\n",
       "    .dataframe tbody tr th {\n",
       "        vertical-align: top;\n",
       "    }\n",
       "\n",
       "    .dataframe thead th {\n",
       "        text-align: right;\n",
       "    }\n",
       "</style>\n",
       "<table border=\"1\" class=\"dataframe\">\n",
       "  <thead>\n",
       "    <tr style=\"text-align: right;\">\n",
       "      <th></th>\n",
       "      <th>Prediction</th>\n",
       "    </tr>\n",
       "  </thead>\n",
       "  <tbody>\n",
       "    <tr>\n",
       "      <td>2021-04-27</td>\n",
       "      <td>0.089757</td>\n",
       "    </tr>\n",
       "    <tr>\n",
       "      <td>2021-04-28</td>\n",
       "      <td>0.090086</td>\n",
       "    </tr>\n",
       "    <tr>\n",
       "      <td>2021-04-29</td>\n",
       "      <td>0.090416</td>\n",
       "    </tr>\n",
       "    <tr>\n",
       "      <td>2021-04-30</td>\n",
       "      <td>0.090747</td>\n",
       "    </tr>\n",
       "    <tr>\n",
       "      <td>2021-05-01</td>\n",
       "      <td>0.091079</td>\n",
       "    </tr>\n",
       "  </tbody>\n",
       "</table>\n",
       "</div>"
      ],
      "text/plain": [
       "            Prediction\n",
       "2021-04-27    0.089757\n",
       "2021-04-28    0.090086\n",
       "2021-04-29    0.090416\n",
       "2021-04-30    0.090747\n",
       "2021-05-01    0.091079"
      ]
     },
     "execution_count": 18,
     "metadata": {},
     "output_type": "execute_result"
    }
   ],
   "source": [
    "forecast.tail()"
   ]
  },
  {
   "cell_type": "code",
   "execution_count": 16,
   "metadata": {
    "scrolled": false
   },
   "outputs": [
    {
     "data": {
      "image/png": "[encoded data removed]",
      "text/plain": [
       "<Figure size 864x576 with 1 Axes>"
      ]
     },
     "metadata": {
      "needs_background": "light"
     },
     "output_type": "display_data"
    }
   ],
   "source": [
    "plt.figure(figsize=(12,8))\n",
    "plt.plot(train,label=\"Train\")\n",
    "plt.plot(test,label='Test')\n",
    "plt.plot(forecast,label='Forecast')\n",
    "plt.show()"
   ]
  },
  {
   "cell_type": "code",
   "execution_count": null,
   "metadata": {},
   "outputs": [],
   "source": []
  }
 ],
 "metadata": {
  "kernelspec": {
   "display_name": "Python 3",
   "language": "python",
   "name": "python3"
  },
  "language_info": {
   "codemirror_mode": {
    "name": "ipython",
    "version": 3
   },
   "file_extension": ".py",
   "mimetype": "text/x-python",
   "name": "python",
   "nbconvert_exporter": "python",
   "pygments_lexer": "ipython3",
   "version": "3.7.4"
  }
 },
 "nbformat": 4,
 "nbformat_minor": 2
}
